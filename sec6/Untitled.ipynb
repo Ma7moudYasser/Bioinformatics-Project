{
 "cells": [
  {
   "cell_type": "code",
   "execution_count": 1,
   "id": "9f1f7f58",
   "metadata": {},
   "outputs": [
    {
     "name": "stdout",
     "output_type": "stream",
     "text": [
      "overlap: 3\n"
     ]
    }
   ],
   "source": [
    "import numpy as np\n",
    "from itertools import permutations\n",
    "\n",
    "def overlap(a,b,min_length=3):\n",
    "    start=0\n",
    "    while True:\n",
    "        start=a.find(b[:min_length],start)\n",
    "        if start==-1:\n",
    "            return 0\n",
    "        if b.startswith(a[start:]):\n",
    "            return len(a[start:])\n",
    "        start+=1\n",
    "        \n",
    "        \n",
    "#print(overlap(\"ACGGTAGGT\", \"GGTAGGTCC\",3))\n",
    "a=\"ACGGTA\" \n",
    "b=\"GTAGTA\"\n",
    "min_len=3\n",
    "j=len(a)-1\n",
    "count=0\n",
    "for i in range(len(b)-1,-1,-1):\n",
    "    if a[j]==b[i]:\n",
    "        count+=1\n",
    "        j-=1\n",
    "    else:\n",
    "        count=0\n",
    "        j=len(a)-1\n",
    "        if a[j]==b[i]:\n",
    "            count+=1\n",
    "            j-=1\n",
    "if count>=min_len:\n",
    "    print('overlap:',count)\n",
    "else:\n",
    "    print(\"no overlap\")"
   ]
  },
  {
   "cell_type": "code",
   "execution_count": null,
   "id": "679f9dd4",
   "metadata": {},
   "outputs": [],
   "source": []
  }
 ],
 "metadata": {
  "kernelspec": {
   "display_name": "Python 3 (ipykernel)",
   "language": "python",
   "name": "python3"
  },
  "language_info": {
   "codemirror_mode": {
    "name": "ipython",
    "version": 3
   },
   "file_extension": ".py",
   "mimetype": "text/x-python",
   "name": "python",
   "nbconvert_exporter": "python",
   "pygments_lexer": "ipython3",
   "version": "3.9.7"
  }
 },
 "nbformat": 4,
 "nbformat_minor": 5
}
