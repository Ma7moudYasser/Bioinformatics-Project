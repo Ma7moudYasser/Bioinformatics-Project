{
 "cells": [
  {
   "cell_type": "code",
   "execution_count": 1,
   "id": "a12f01b4",
   "metadata": {},
   "outputs": [
    {
     "name": "stdout",
     "output_type": "stream",
     "text": [
      "0.5388026607538803\n",
      "AGAACAGTGACGGTAGCCATTAAAACTAGAAGAAGAGCCGTTCCGTTTGAGCCTACCGAAGGGGCCATTTGGTCCTCCGATAACTGCCACTATGTCTTTACTCTAATAGTAGTGGTATATGGTTGTTCGTTTGACTGTGGGGTTTTTCTAAAGAAACCCCGAACCCACGGTCGAAAAACATCCGTATTGCCTAGTCTTAGAGTACTTCTGACTTATGGTGTGATGTCGTTCGACGGCCTCGTGCTACTGACTACCAGGCTCACCAGGGTTGTCTGGCAATCAAAGCGGAGGTCCGGGGAACCTCCGGTCCGAGCGAGGTGTCGCTGCGGGACACGTGCCGAGGATCGGCGGGTCCAGCTGGGCCCACTTTAAGGACCCACGGAGGTTCAAGGAGAACCGAGTAGTCACAGCCATTCCGAGCTTTGTTTTAGAGGCGGGGGACGCGTCGACC\n"
     ]
    }
   ],
   "source": [
    "def GC_Content(seq):\n",
    "    l=len(seq)\n",
    "    num_G=seq.count(\"G\")\n",
    "    num_C=seq.count(\"C\")\n",
    "    total=num_C+num_G\n",
    "    return total/l\n",
    "def Complement(seq):\n",
    "    dic={\"G\":\"C\",\"C\":\"G\",\"A\":\"T\",\"T\":\"A\"}\n",
    "    s=list(seq)\n",
    "    for i in range(len(seq)):\n",
    "        s[i]=str(dic[s[i]])\n",
    "    s=\"\".join(s)\n",
    "    return s\n",
    "def Reverse(seq):\n",
    "    s=list(seq)\n",
    "    s=reversed(s)\n",
    "    s=\"\".join(s)\n",
    "    return s\n",
    "def Reverse_Complement(seq):\n",
    "    seq=Reverse(seq)\n",
    "    seq=Complement(seq)\n",
    "    return seq \n",
    "\n",
    "\n",
    "file=open(\"dna1.fasta\")\n",
    "l=[i for i in file]\n",
    "seq=l[1][0:-1]\n",
    "l=len(seq)\n",
    "count=0\n",
    "for i in range(len(seq)):\n",
    "    if seq[i]==\"G\" or seq[i]==\"C\":\n",
    "        count+=1\n",
    "print(count/l)\n",
    "s=\"\"\n",
    "for i in range(len(seq)):\n",
    "    s=seq[i]+s\n",
    "print(s)\n",
    "#print(\"GC Content\",GC_Content(s))\n",
    "# print(\"Reverse\",Reverse(s))\n",
    "\n",
    "# print(\"Reverse Complement\",Reverse_Complement(s))\n",
    "\n",
    "\n",
    "\n",
    "\n",
    "\n"
   ]
  },
  {
   "cell_type": "code",
   "execution_count": null,
   "id": "7c9e99f5",
   "metadata": {},
   "outputs": [],
   "source": []
  }
 ],
 "metadata": {
  "kernelspec": {
   "display_name": "Python 3 (ipykernel)",
   "language": "python",
   "name": "python3"
  },
  "language_info": {
   "codemirror_mode": {
    "name": "ipython",
    "version": 3
   },
   "file_extension": ".py",
   "mimetype": "text/x-python",
   "name": "python",
   "nbconvert_exporter": "python",
   "pygments_lexer": "ipython3",
   "version": "3.9.7"
  }
 },
 "nbformat": 4,
 "nbformat_minor": 5
}
