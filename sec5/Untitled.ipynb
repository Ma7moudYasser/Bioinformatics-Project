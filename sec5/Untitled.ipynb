{
 "cells": [
  {
   "cell_type": "code",
   "execution_count": 1,
   "id": "8ae27ea0",
   "metadata": {},
   "outputs": [
    {
     "name": "stdout",
     "output_type": "stream",
     "text": [
      "[('AAG', 55), ('AAG', 151)]\n",
      "[55, 151]\n"
     ]
    }
   ],
   "source": [
    "import numpy as np\n",
    "import bisect\n",
    "\n",
    "def IndexSorted(seq,ln):\n",
    "    index = []\n",
    "    for i in range(len(seq)-ln+1):\n",
    "        index.append((seq[i:i+ln], i))\n",
    "    index.sort() \n",
    "    return index\n",
    "def query(t,p,index):\n",
    "    keys = [r[0] for r in index]\n",
    "    st = bisect.bisect_left(keys,p[:len(keys[0])])\n",
    "    \n",
    "    en = bisect.bisect(keys,p[:len(keys[0])])\n",
    "    hits = index[st:en] \n",
    "    print(hits)\n",
    "    l=[h[1] for h in hits ]\n",
    "    offsets=[]\n",
    "    for i in l:\n",
    "        if t[i:i+len(p)]==p:\n",
    "            offsets.append(i)\n",
    "    return offsets\n",
    "        \n",
    "\n",
    "\n",
    "\n",
    "\n",
    "\n",
    "\n",
    "\n",
    "\n",
    "\n",
    "\n",
    "\n",
    "\n",
    "\n",
    "file=open(\"dna1.fasta\")\n",
    "l=[i for i in file]\n",
    "t=l[1][0:-1]\n",
    "p=\"AAG\"\n",
    "ln=3\n",
    "# table=[]\n",
    "# for i in range(len(t)-ln+1):\n",
    "#     table.append([t[i:i+ln],i])\n",
    "# for  i in range(len(table)):\n",
    "#     if p[0:ln]==table[i][0]:\n",
    "#         index=table[i][1]\n",
    "#         if t[index:index+len(p)]==p:\n",
    "#             print(i)\n",
    "# print(t[151:151+len(p)])\n",
    "index=IndexSorted(t,ln)\n",
    "print(query(t,p,index))\n"
   ]
  },
  {
   "cell_type": "code",
   "execution_count": null,
   "id": "54d7434e",
   "metadata": {},
   "outputs": [],
   "source": []
  }
 ],
 "metadata": {
  "kernelspec": {
   "display_name": "Python 3 (ipykernel)",
   "language": "python",
   "name": "python3"
  },
  "language_info": {
   "codemirror_mode": {
    "name": "ipython",
    "version": 3
   },
   "file_extension": ".py",
   "mimetype": "text/x-python",
   "name": "python",
   "nbconvert_exporter": "python",
   "pygments_lexer": "ipython3",
   "version": "3.9.7"
  }
 },
 "nbformat": 4,
 "nbformat_minor": 5
}
