{
 "cells": [
  {
   "cell_type": "code",
   "execution_count": 1,
   "id": "ca663dca",
   "metadata": {},
   "outputs": [],
   "source": [
    "def smith_waterman(seq1, seq2, match_score=1, mismatch_score=-1, gap_penalty=-1):\n",
    "    m, n = len(seq1), len(seq2)\n",
    "    score = [[0 for _ in range(n+1)] for _ in range(m+1)]\n",
    "\n",
    "    max_score = 0\n",
    "    max_pos = None\n",
    "    for i in range(1, m+1):\n",
    "        for j in range(1, n+1):\n",
    "            diag = score[i-1][j-1] + (match_score if seq1[i-1] == seq2[j-1] else mismatch_score)\n",
    "            delete = score[i-1][j] + gap_penalty\n",
    "            insert = score[i][j-1] + gap_penalty\n",
    "            score[i][j] = max(0, diag, delete, insert)\n",
    "            if score[i][j] > max_score:\n",
    "                max_score = score[i][j]\n",
    "                max_pos = (i, j)\n",
    "\n",
    "    align1, align2 = '', ''\n",
    "    i, j = max_pos\n",
    "    while score[i][j] > 0:\n",
    "        if score[i][j] == score[i-1][j-1] + (match_score if seq1[i-1] == seq2[j-1] else mismatch_score):\n",
    "            align1 = seq1[i-1] + align1\n",
    "            align2 = seq2[j-1] + align2\n",
    "            i -= 1\n",
    "            j -= 1\n",
    "        elif score[i][j] == score[i][j-1] + gap_penalty:\n",
    "            align1 = '-' + align1\n",
    "            align2 = seq2[j-1] + align2\n",
    "            j -= 1\n",
    "        elif score[i][j] == score[i-1][j] + gap_penalty:\n",
    "            align1 = seq1[i-1] + align1\n",
    "            align2 = '-' + align2\n",
    "            i -= 1\n",
    "\n",
    "    return max_score, align1, align2\n"
   ]
  },
  {
   "cell_type": "code",
   "execution_count": 2,
   "id": "7de9c66c",
   "metadata": {},
   "outputs": [
    {
     "name": "stdout",
     "output_type": "stream",
     "text": [
      "Maximum score: 5\n",
      "Alignment 1: ATGCA\n",
      "Alignment 2: ATGCA\n"
     ]
    }
   ],
   "source": [
    "\n"
   ]
  },
  {
   "cell_type": "code",
   "execution_count": 3,
   "id": "90dc49a3",
   "metadata": {},
   "outputs": [],
   "source": [
    "max_score, align1, align2 = smith_waterman(seq1, seq2, match_score=2, mismatch_score=-1, gap_penalty=-2)\n"
   ]
  },
  {
   "cell_type": "code",
   "execution_count": null,
   "id": "5346e296",
   "metadata": {},
   "outputs": [],
   "source": []
  }
 ],
 "metadata": {
  "kernelspec": {
   "display_name": "Python 3 (ipykernel)",
   "language": "python",
   "name": "python3"
  },
  "language_info": {
   "codemirror_mode": {
    "name": "ipython",
    "version": 3
   },
   "file_extension": ".py",
   "mimetype": "text/x-python",
   "name": "python",
   "nbconvert_exporter": "python",
   "pygments_lexer": "ipython3",
   "version": "3.9.12"
  }
 },
 "nbformat": 4,
 "nbformat_minor": 5
}
