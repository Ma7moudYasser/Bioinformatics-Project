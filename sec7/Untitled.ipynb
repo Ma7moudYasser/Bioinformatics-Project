{
 "cells": [
  {
   "cell_type": "code",
   "execution_count": 1,
   "id": "a4b033e4",
   "metadata": {},
   "outputs": [],
   "source": [
    "T = 'ACGACTACGATAAC$'\n",
    "l=[]\n",
    "for i in range(len(T)):\n",
    "    l.append(T[i:])\n",
    "l2=l.copy()\n",
    "l.sort()\n",
    "dec={}\n",
    "for i in range(len(l)):\n",
    "    dec[l[i]]=i\n",
    "table=[]\n",
    "for i in range(len(l)):\n",
    "    table.append([l2[i],i,dec[l2[i]]])\n"
   ]
  },
  {
   "cell_type": "code",
   "execution_count": null,
   "id": "5d29e369",
   "metadata": {},
   "outputs": [],
   "source": []
  }
 ],
 "metadata": {
  "kernelspec": {
   "display_name": "Python 3 (ipykernel)",
   "language": "python",
   "name": "python3"
  },
  "language_info": {
   "codemirror_mode": {
    "name": "ipython",
    "version": 3
   },
   "file_extension": ".py",
   "mimetype": "text/x-python",
   "name": "python",
   "nbconvert_exporter": "python",
   "pygments_lexer": "ipython3",
   "version": "3.9.7"
  }
 },
 "nbformat": 4,
 "nbformat_minor": 5
}
