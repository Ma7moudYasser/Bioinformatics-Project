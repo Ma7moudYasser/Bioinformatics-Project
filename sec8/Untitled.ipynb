{
 "cells": [
  {
   "cell_type": "code",
   "execution_count": 1,
   "id": "23a8f8d5",
   "metadata": {},
   "outputs": [
    {
     "name": "stdout",
     "output_type": "stream",
     "text": [
      "distance between two dna sequences =  1.7320508075688772\n"
     ]
    }
   ],
   "source": [
    "import pandas as pd\n",
    "file=open(\"dna1.fasta\")\n",
    "l=[i for i in file]\n",
    "seq=l[1][0:-1]\n",
    "seq=\"ATGTGTG\"\n",
    "tag=3\n",
    "dic={}\n",
    "for i in range(0,len(seq)-tag):\n",
    "    dic[seq[i:i+tag]]=dic.get(seq[i:i+tag],0)+1\n",
    "  \n",
    "file=open(\"dna2.fasta\")\n",
    "l=[i for i in file]\n",
    "seq2=l[1][0:]\n",
    "seq2=\"CATGTG\"\n",
    "dic2={}\n",
    "for i in range(0,len(seq2)-tag):\n",
    "    dic2[seq2[i:i+tag]]=dic2.get(seq2[i:i+tag],0)+1\n",
    "k=list(dic.keys())\n",
    "for i in range(len(k)):\n",
    "    dic2[k[i]]=(dic2.get(k[i],0)-dic[k[i]])\n",
    "d=list(dic2.values())\n",
    "Sum=0\n",
    "for i in range(len(d)):\n",
    "    Sum+=d[i]**2\n",
    "distance=Sum**(0.5)\n",
    "print(\"distance between two dna sequences = \",distance)"
   ]
  },
  {
   "cell_type": "code",
   "execution_count": null,
   "id": "e2e2ed2e",
   "metadata": {},
   "outputs": [],
   "source": []
  }
 ],
 "metadata": {
  "kernelspec": {
   "display_name": "Python 3 (ipykernel)",
   "language": "python",
   "name": "python3"
  },
  "language_info": {
   "codemirror_mode": {
    "name": "ipython",
    "version": 3
   },
   "file_extension": ".py",
   "mimetype": "text/x-python",
   "name": "python",
   "nbconvert_exporter": "python",
   "pygments_lexer": "ipython3",
   "version": "3.9.7"
  }
 },
 "nbformat": 4,
 "nbformat_minor": 5
}
