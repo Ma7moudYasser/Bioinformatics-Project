{
 "cells": [
  {
   "cell_type": "markdown",
   "id": "af8c2029",
   "metadata": {},
   "source": [
    "sec 1\n"
   ]
  },
  {
   "cell_type": "code",
   "execution_count": null,
   "id": "364aeb5f",
   "metadata": {},
   "outputs": [],
   "source": [
    "import numpy as np\n",
    "import pandas as pd"
   ]
  },
  {
   "cell_type": "code",
   "execution_count": null,
   "id": "c76053e4",
   "metadata": {},
   "outputs": [],
   "source": [
    "infile = open('HAPPENN_dataset.fasta')\n",
    "tb=[]\n",
    "for line in infile:\n",
    "    if line[0]==\">\":\n",
    "        s=line.split(\"|lcl|\")\n",
    "    else:\n",
    "        if s[3]=='non-hemolytic' or s[3]=='non-hemolytic\\n':\n",
    "            tb.append([line[:-1],0])\n",
    "        else:\n",
    "            tb.append([line[:-1],1])\n"
   ]
  },
  {
   "cell_type": "code",
   "execution_count": null,
   "id": "852c4fb6",
   "metadata": {},
   "outputs": [],
   "source": [
    "print(tb)\n",
    "head=['Sequence','y']\n",
    "df=pd.DataFrame(tb,columns=head)\n",
    "df.to_csv(\"HAPPENN.csv\")"
   ]
  },
  {
   "cell_type": "code",
   "execution_count": null,
   "id": "0e858046",
   "metadata": {},
   "outputs": [],
   "source": [
    "print(df)"
   ]
  },
  {
   "cell_type": "code",
   "execution_count": null,
   "id": "568be81f",
   "metadata": {},
   "outputs": [],
   "source": [
    "df = pd.read_csv('./HAPPENN.csv', index_col=0)"
   ]
  },
  {
   "cell_type": "code",
   "execution_count": null,
   "id": "403feb4f",
   "metadata": {},
   "outputs": [],
   "source": [
    "df"
   ]
  },
  {
   "cell_type": "code",
   "execution_count": null,
   "id": "ed510374",
   "metadata": {},
   "outputs": [],
   "source": [
    "infile = open('seq.fasta')\n",
    "tb=[]\n",
    "l=[]\n",
    "for line in infile:\n",
    "    if line[0]==\">\":\n",
    "        l.append(line[1:-1])\n",
    "    else:\n",
    "        seq=line[:-1]\n",
    "        tb.append(seq)"
   ]
  },
  {
   "cell_type": "code",
   "execution_count": null,
   "id": "fe42ccfb",
   "metadata": {},
   "outputs": [],
   "source": [
    "head=['ID','Sequence']\n",
    "df=pd.DataFrame({\"ID\":l,\"Sequence\":tb})\n",
    "df.to_csv(\"seq.csv\")"
   ]
  },
  {
   "cell_type": "markdown",
   "id": "7ed260e1",
   "metadata": {},
   "source": [
    "sec 2"
   ]
  },
  {
   "cell_type": "code",
   "execution_count": null,
   "id": "67d45c87",
   "metadata": {},
   "outputs": [],
   "source": [
    "# -*- coding: utf-8 -*-\n",
    "\"\"\"\n",
    "Created on Tue Oct 11 19:37:21 2022\n",
    "\n",
    "@author: Mohamed Elhakim\n",
    "\"\"\"\n",
    "\n",
    "def GC_Content(seq):\n",
    "    l=len(seq)\n",
    "    num_G=seq.count(\"G\")\n",
    "    num_C=seq.count(\"C\")\n",
    "    total=num_C+num_G\n",
    "    return total/l\n",
    "def Complement(seq):\n",
    "    dic={\"G\":\"C\",\"C\":\"G\",\"A\":\"T\",\"T\":\"A\"}\n",
    "    s=list(seq)\n",
    "    for i in range(len(seq)):\n",
    "        s[i]=str(dic[s[i]])\n",
    "    s=\"\".join(s)\n",
    "    return s\n",
    "def Reverse(seq):\n",
    "    s=list(seq)\n",
    "    s=reversed(s)\n",
    "    s=\"\".join(s)\n",
    "    return s\n",
    "def Reverse_Complement(seq):\n",
    "    seq=Reverse(seq)\n",
    "    seq=Complement(seq)\n",
    "    return seq \n",
    "\n",
    "\n",
    "file=open(\"dna1.fasta\")\n",
    "l=[i for i in file]\n",
    "seq=l[1][0:-1]\n",
    "l=len(seq)\n",
    "count=0\n",
    "for i in range(len(seq)):\n",
    "    if seq[i]==\"G\" or seq[i]==\"C\":\n",
    "        count+=1\n",
    "print(count/l)\n",
    "s=\"\"\n",
    "for i in range(len(seq)):\n",
    "    s=seq[i]+s\n",
    "print(s)\n",
    "#print(\"GC Content\",GC_Content(s))\n",
    "# print(\"Reverse\",Reverse(s))\n",
    "\n",
    "# print(\"Reverse Complement\",Reverse_Complement(s))\n",
    "\n",
    "\n",
    "\n"
   ]
  },
  {
   "cell_type": "markdown",
   "id": "c80cebea",
   "metadata": {},
   "source": [
    "sec 3"
   ]
  },
  {
   "cell_type": "code",
   "execution_count": null,
   "id": "305c5d15",
   "metadata": {},
   "outputs": [],
   "source": [
    "# -*- coding: utf-8 -*-\n",
    "\"\"\"\n",
    "Created on Tue Oct 11 19:37:21 2022\n",
    "\n",
    "@author: Mohamed Elhakim\n",
    "\"\"\"\n",
    "import colorama\n",
    "from colorama import Fore\n",
    "def GC_Content(seq):\n",
    "    l=len(seq)\n",
    "    num_G=seq.count(\"G\")\n",
    "    num_C=seq.count(\"C\")\n",
    "    total=num_C+num_G\n",
    "    return total/l\n",
    "    \n",
    "def Complement(seq):\n",
    "    dic={\"G\":\"C\",\"C\":\"G\",\"A\":\"T\",\"T\":\"A\"}\n",
    "    s=list(seq)\n",
    "    for i in range(len(seq)):\n",
    "        s[i]=str(dic[seq[i]])\n",
    "    s=\"\".join(s)\n",
    "    return s\n",
    "def Reverse(seq):\n",
    "    s=list(seq)\n",
    "    s=reversed(s)\n",
    "    s=\"\".join(s)\n",
    "    return s\n",
    "def Reverse_Complement(seq):\n",
    "    seq=Reverse(seq)\n",
    "    seq=Complement(seq)\n",
    "    return seq\n",
    "def Translation_Table(seq):\n",
    "    dic = {\"TTT\" : \"F\", \"CTT\" : \"L\", \"ATT\" : \"I\", \"GTT\" : \"V\",\n",
    "           \"TTC\" : \"F\", \"CTC\" : \"L\", \"ATC\" : \"I\", \"GTC\" : \"V\",\n",
    "           \"TTA\" : \"L\", \"CTA\" : \"L\", \"ATA\" : \"I\", \"GTA\" : \"V\",\n",
    "           \"TTG\" : \"L\", \"CTG\" : \"L\", \"ATG\" : \"M\", \"GTG\" : \"V\",\n",
    "           \"TCT\" : \"S\", \"CCT\" : \"P\", \"ACT\" : \"T\", \"GCT\" : \"A\",\n",
    "           \"TCC\" : \"S\", \"CCC\" : \"P\", \"ACC\" : \"T\", \"GCC\" : \"A\",\n",
    "           \"TCA\" : \"S\", \"CCA\" : \"P\", \"ACA\" : \"T\", \"GCA\" : \"A\",\n",
    "           \"TCG\" : \"S\", \"CCG\" : \"P\", \"ACG\" : \"T\", \"GCG\" : \"A\",\n",
    "           \"TAT\" : \"Y\", \"CAT\" : \"H\", \"AAT\" : \"N\", \"GAT\" : \"D\",\n",
    "           \"TAC\" : \"Y\", \"CAC\" : \"H\", \"AAC\" : \"N\", \"GAC\" : \"D\",\n",
    "           \"TAA\" : \"*\", \"CAA\" : \"Q\", \"AAA\" : \"K\", \"GAA\" : \"E\",\n",
    "           \"TAG\" : \"*\", \"CAG\" : \"Q\", \"AAG\" : \"K\", \"GAG\" : \"E\",\n",
    "           \"TGT\" : \"C\", \"CGT\" : \"R\", \"AGT\" : \"S\", \"GGT\" : \"G\",\n",
    "           \"TGC\" : \"C\", \"CGC\" : \"R\", \"AGC\" : \"S\", \"GGC\" : \"G\",\n",
    "           \"TGA\" : \"*\", \"CGA\" : \"R\", \"AGA\" : \"R\", \"GGA\" : \"G\",\n",
    "           \"TGG\" : \"W\", \"CGG\" : \"R\", \"AGG\" : \"R\", \"GGG\" : \"G\" \n",
    "           }\n",
    "    s=\"\"\n",
    "    sf=\"\"\n",
    "    flag=0\n",
    "    for i in range(0,len(seq)-2,3):\n",
    "        if dic[seq[i:i+3]]==\"M\":\n",
    "            flag=1\n",
    "        elif (dic[seq[i:i+3]]==\"*\"):\n",
    "            flag=0\n",
    "        if flag==1:\n",
    "            s+=dic[seq[i:i+3]]\n",
    "        sf+=dic[seq[i:i+3]]\n",
    "    return sf,s        \n",
    "s=\"GCCTCTGGTATGCTTCCCTGCTTGATGATTGCGGAAACCGTAACCCTACAAGGCAGGACGATGCTAGAAAAAACCAAGCAGTTTGTGGAGAATGTGACTGTGGACTATTTACAAAAAATCTGCAACTAATGTTCCGTGCCTGCCGCTGCACCCAAATCCCAAGTTTAGGGTGCG\"\n",
    "# print(len(s))\n",
    "# print(\"GC Content\",GC_Content(s))\n",
    "# print(\"Reverse Complement\",Reverse_Complement(s))\n",
    "print(Translation_Table(s))"
   ]
  },
  {
   "cell_type": "markdown",
   "id": "b6522f0f",
   "metadata": {},
   "source": [
    "sec 4"
   ]
  },
  {
   "cell_type": "code",
   "execution_count": null,
   "id": "1ec890d3",
   "metadata": {},
   "outputs": [],
   "source": [
    "# -*- coding: utf-8 -*-\n",
    "\"\"\"\n",
    "Created on Tue Oct 11 19:37:21 2022\n",
    "\n",
    "@author: Mohamed Elhakim\n",
    "\"\"\"\n",
    "import numpy as np\n",
    "import time\n",
    "\n",
    "def match(seq,sub_seq):\n",
    "    x=-1\n",
    "    for i in range(len(seq)-len(sub_seq)+1):\n",
    "        if sub_seq==seq[i:i+len(sub_seq)]:\n",
    "            x=i\n",
    "    return x\n",
    "\n",
    "\n",
    "\n",
    "\n",
    "\n",
    "\n",
    "def Badchars(seq,sub_seq):\n",
    "    table=np.zeros([4,len(sub_seq)])     \n",
    "    row=[\"C\",\"G\",\"A\",\"T\"]\n",
    "    for i in range (4):\n",
    "        num=-1\n",
    "        for j in range (len(sub_seq)):\n",
    "            if row[i]==sub_seq[j]:\n",
    "                table[i,j]=-1\n",
    "                num=-1\n",
    "            else:\n",
    "                num+=1\n",
    "                table[i,j]=num\n",
    "    x=-1\n",
    "    i=0\n",
    "    while(i<len(seq)-len(sub_seq)+1):\n",
    "        if sub_seq==seq[i:i+len(sub_seq)]:\n",
    "            x=i\n",
    "        else:\n",
    "            for j in range(i+len(sub_seq)-1,i-1,-1):\n",
    "                if seq[j] != sub_seq[int(j-i)]:\n",
    "                    k=row.index(seq[j])\n",
    "                    i+=table[k,j-i]\n",
    "                    break\n",
    "        i=int(i+1)\n",
    "    return x\n",
    "file=open(\"dna1.fasta\")\n",
    "l=[i for i in file]\n",
    "p=l[1][0:-1]\n",
    "t=\"GCGTCGCTGTGGAG\"\n",
    "print(match(p,t))\n",
    "print(Badchars(p,t))\n"
   ]
  },
  {
   "cell_type": "markdown",
   "id": "bcba2475",
   "metadata": {},
   "source": [
    "sec 5"
   ]
  },
  {
   "cell_type": "code",
   "execution_count": null,
   "id": "99faf167",
   "metadata": {},
   "outputs": [],
   "source": [
    "# -*- coding: utf-8 -*-\n",
    "\"\"\"\n",
    "Created on Tue Oct 11 19:37:21 2022\n",
    "\n",
    "@author: Mohamed Elhakim\n",
    "\"\"\"\n",
    "import numpy as np\n",
    "import bisect\n",
    "\n",
    "def IndexSorted(seq,ln):\n",
    "    index = []\n",
    "    for i in range(len(seq)-ln+1):\n",
    "        index.append((seq[i:i+ln], i))\n",
    "    index.sort() \n",
    "    return index\n",
    "def query(t,p,index):\n",
    "    keys = [r[0] for r in index]\n",
    "    st = bisect.bisect_left(keys,p[:len(keys[0])])\n",
    "    \n",
    "    en = bisect.bisect(keys,p[:len(keys[0])])\n",
    "    hits = index[st:en] \n",
    "    print(hits)\n",
    "    l=[h[1] for h in hits ]\n",
    "    offsets=[]\n",
    "    for i in l:\n",
    "        if t[i:i+len(p)]==p:\n",
    "            offsets.append(i)\n",
    "    return offsets\n",
    "        \n",
    "\n",
    "\n",
    "\n",
    "\n",
    "\n",
    "\n",
    "\n",
    "\n",
    "\n",
    "\n",
    "\n",
    "\n",
    "\n",
    "file=open(\"dna1.fasta\")\n",
    "l=[i for i in file]\n",
    "t=l[1][0:-1]\n",
    "p=\"AAG\"\n",
    "ln=3\n",
    "# table=[]\n",
    "# for i in range(len(t)-ln+1):\n",
    "#     table.append([t[i:i+ln],i])\n",
    "# for  i in range(len(table)):\n",
    "#     if p[0:ln]==table[i][0]:\n",
    "#         index=table[i][1]\n",
    "#         if t[index:index+len(p)]==p:\n",
    "#             print(i)\n",
    "# print(t[151:151+len(p)])\n",
    "index=IndexSorted(t,ln)\n",
    "print(query(t,p,index))\n",
    "\n",
    "\n"
   ]
  },
  {
   "cell_type": "markdown",
   "id": "38eedde3",
   "metadata": {},
   "source": [
    "sec 6 "
   ]
  },
  {
   "cell_type": "code",
   "execution_count": null,
   "id": "db123537",
   "metadata": {},
   "outputs": [],
   "source": [
    "# -*- coding: utf-8 -*-\n",
    "\"\"\"\n",
    "Created on Tue Oct 11 19:37:21 2022\n",
    "\n",
    "@author: Mohamed Elhakim\n",
    "\"\"\"\n",
    "import numpy as np\n",
    "from itertools import permutations\n",
    "\n",
    "def overlap(a,b,min_length=3):\n",
    "    start=0\n",
    "    while True:\n",
    "        start=a.find(b[:min_length],start)\n",
    "        if start==-1:\n",
    "            return 0\n",
    "        if b.startswith(a[start:]):\n",
    "            return len(a[start:])\n",
    "        start+=1\n",
    "        \n",
    "        \n",
    "#print(overlap(\"ACGGTAGGT\", \"GGTAGGTCC\",3))\n",
    "a=\"ACGGTA\" \n",
    "b=\"GTAGTA\"\n",
    "min_len=3\n",
    "j=len(a)-1\n",
    "count=0\n",
    "for i in range(len(b)-1,-1,-1):\n",
    "    if a[j]==b[i]:\n",
    "        count+=1\n",
    "        j-=1\n",
    "    else:\n",
    "        count=0\n",
    "        j=len(a)-1\n",
    "        if a[j]==b[i]:\n",
    "            count+=1\n",
    "            j-=1\n",
    "if count>=min_len:\n",
    "    print('overlap:',count)\n",
    "else:\n",
    "    print(\"no overlap\")\n"
   ]
  },
  {
   "cell_type": "markdown",
   "id": "a8371e25",
   "metadata": {},
   "source": [
    "sec 7 "
   ]
  },
  {
   "cell_type": "code",
   "execution_count": null,
   "id": "d23fc570",
   "metadata": {},
   "outputs": [],
   "source": [
    "# -*- coding: utf-8 -*-\n",
    "\"\"\"\n",
    "Created on Sun Dec  4 10:08:26 2022\n",
    "\n",
    "@author: Mohamed Elhakim\n",
    "\"\"\"\n",
    "T = 'ACGACTACGATAAC$'\n",
    "l=[]\n",
    "for i in range(len(T)):\n",
    "    l.append(T[i:])\n",
    "l2=l.copy()\n",
    "l.sort()\n",
    "dec={}\n",
    "for i in range(len(l)):\n",
    "    dec[l[i]]=i\n",
    "table=[]\n",
    "for i in range(len(l)):\n",
    "    table.append([l2[i],i,dec[l2[i]]])"
   ]
  },
  {
   "cell_type": "markdown",
   "id": "645aea63",
   "metadata": {},
   "source": [
    "sec 8 "
   ]
  },
  {
   "cell_type": "code",
   "execution_count": null,
   "id": "083c31a9",
   "metadata": {},
   "outputs": [],
   "source": [
    "# -*- coding: utf-8 -*-\n",
    "\"\"\"\n",
    "Created on Sat Dec 10 19:27:39 2022\n",
    "\n",
    "@author: Mohamed Elhakim\n",
    "\"\"\"\n",
    "import pandas as pd\n",
    "file=open(\"dna1.fasta\")\n",
    "l=[i for i in file]\n",
    "seq=l[1][0:-1]\n",
    "seq=\"ATGTGTG\"\n",
    "tag=3\n",
    "dic={}\n",
    "for i in range(0,len(seq)-tag):\n",
    "    dic[seq[i:i+tag]]=dic.get(seq[i:i+tag],0)+1\n",
    "  \n",
    "file=open(\"dna2.fasta\")\n",
    "l=[i for i in file]\n",
    "seq2=l[1][0:]\n",
    "seq2=\"CATGTG\"\n",
    "dic2={}\n",
    "for i in range(0,len(seq2)-tag):\n",
    "    dic2[seq2[i:i+tag]]=dic2.get(seq2[i:i+tag],0)+1\n",
    "k=list(dic.keys())\n",
    "for i in range(len(k)):\n",
    "    dic2[k[i]]=(dic2.get(k[i],0)-dic[k[i]])\n",
    "d=list(dic2.values())\n",
    "Sum=0\n",
    "for i in range(len(d)):\n",
    "    Sum+=d[i]**2\n",
    "distance=Sum**(0.5)\n",
    "print(\"distance between two dna sequences = \",distance)"
   ]
  },
  {
   "cell_type": "code",
   "execution_count": null,
   "id": "2a11c161",
   "metadata": {},
   "outputs": [],
   "source": []
  },
  {
   "cell_type": "code",
   "execution_count": null,
   "id": "f6d80e76",
   "metadata": {},
   "outputs": [],
   "source": []
  },
  {
   "cell_type": "code",
   "execution_count": null,
   "id": "7f3ebec5",
   "metadata": {},
   "outputs": [],
   "source": []
  },
  {
   "cell_type": "code",
   "execution_count": null,
   "id": "5ee78714",
   "metadata": {},
   "outputs": [],
   "source": []
  },
  {
   "cell_type": "code",
   "execution_count": null,
   "id": "96b64970",
   "metadata": {},
   "outputs": [],
   "source": []
  },
  {
   "cell_type": "code",
   "execution_count": null,
   "id": "8bcafb5e",
   "metadata": {},
   "outputs": [],
   "source": []
  },
  {
   "cell_type": "code",
   "execution_count": null,
   "id": "2cc02427",
   "metadata": {},
   "outputs": [],
   "source": []
  },
  {
   "cell_type": "code",
   "execution_count": null,
   "id": "5a2a7c4c",
   "metadata": {},
   "outputs": [],
   "source": []
  },
  {
   "cell_type": "code",
   "execution_count": null,
   "id": "91097bbb",
   "metadata": {},
   "outputs": [],
   "source": []
  },
  {
   "cell_type": "code",
   "execution_count": null,
   "id": "c185c335",
   "metadata": {},
   "outputs": [],
   "source": []
  },
  {
   "cell_type": "code",
   "execution_count": null,
   "id": "ad990f86",
   "metadata": {},
   "outputs": [],
   "source": []
  },
  {
   "cell_type": "code",
   "execution_count": null,
   "id": "dc8e22c9",
   "metadata": {},
   "outputs": [],
   "source": []
  },
  {
   "cell_type": "code",
   "execution_count": null,
   "id": "fc59f66c",
   "metadata": {},
   "outputs": [],
   "source": []
  },
  {
   "cell_type": "code",
   "execution_count": null,
   "id": "6114ff5a",
   "metadata": {},
   "outputs": [],
   "source": []
  },
  {
   "cell_type": "code",
   "execution_count": null,
   "id": "a5884648",
   "metadata": {},
   "outputs": [],
   "source": []
  },
  {
   "cell_type": "code",
   "execution_count": null,
   "id": "c3467835",
   "metadata": {},
   "outputs": [],
   "source": []
  },
  {
   "cell_type": "code",
   "execution_count": null,
   "id": "7b65cde7",
   "metadata": {},
   "outputs": [],
   "source": []
  },
  {
   "cell_type": "code",
   "execution_count": null,
   "id": "af9ac85a",
   "metadata": {},
   "outputs": [],
   "source": []
  },
  {
   "cell_type": "code",
   "execution_count": null,
   "id": "8612b650",
   "metadata": {},
   "outputs": [],
   "source": []
  },
  {
   "cell_type": "code",
   "execution_count": null,
   "id": "3b431662",
   "metadata": {},
   "outputs": [],
   "source": []
  },
  {
   "cell_type": "code",
   "execution_count": null,
   "id": "b88a6774",
   "metadata": {},
   "outputs": [],
   "source": []
  },
  {
   "cell_type": "code",
   "execution_count": null,
   "id": "56c4d871",
   "metadata": {},
   "outputs": [],
   "source": []
  },
  {
   "cell_type": "code",
   "execution_count": null,
   "id": "45ac9f08",
   "metadata": {},
   "outputs": [],
   "source": []
  },
  {
   "cell_type": "code",
   "execution_count": null,
   "id": "6af669b0",
   "metadata": {},
   "outputs": [],
   "source": []
  },
  {
   "cell_type": "code",
   "execution_count": null,
   "id": "f7fbfc7a",
   "metadata": {},
   "outputs": [],
   "source": []
  },
  {
   "cell_type": "code",
   "execution_count": null,
   "id": "2fe145b9",
   "metadata": {},
   "outputs": [],
   "source": []
  },
  {
   "cell_type": "code",
   "execution_count": null,
   "id": "95c62eb9",
   "metadata": {},
   "outputs": [],
   "source": []
  },
  {
   "cell_type": "code",
   "execution_count": null,
   "id": "6270a283",
   "metadata": {},
   "outputs": [],
   "source": []
  },
  {
   "cell_type": "code",
   "execution_count": null,
   "id": "d824969e",
   "metadata": {},
   "outputs": [],
   "source": []
  },
  {
   "cell_type": "code",
   "execution_count": null,
   "id": "15f29549",
   "metadata": {},
   "outputs": [],
   "source": []
  },
  {
   "cell_type": "code",
   "execution_count": null,
   "id": "e40f351c",
   "metadata": {},
   "outputs": [],
   "source": []
  },
  {
   "cell_type": "code",
   "execution_count": null,
   "id": "0cd245ea",
   "metadata": {},
   "outputs": [],
   "source": []
  },
  {
   "cell_type": "code",
   "execution_count": null,
   "id": "2da442f8",
   "metadata": {},
   "outputs": [],
   "source": []
  },
  {
   "cell_type": "code",
   "execution_count": null,
   "id": "14569640",
   "metadata": {},
   "outputs": [],
   "source": []
  },
  {
   "cell_type": "code",
   "execution_count": null,
   "id": "8a206b87",
   "metadata": {},
   "outputs": [],
   "source": []
  },
  {
   "cell_type": "code",
   "execution_count": null,
   "id": "6de7198d",
   "metadata": {},
   "outputs": [],
   "source": []
  },
  {
   "cell_type": "code",
   "execution_count": null,
   "id": "60091dc1",
   "metadata": {},
   "outputs": [],
   "source": []
  },
  {
   "cell_type": "code",
   "execution_count": null,
   "id": "5f431c7e",
   "metadata": {},
   "outputs": [],
   "source": []
  },
  {
   "cell_type": "code",
   "execution_count": null,
   "id": "9a9d2991",
   "metadata": {},
   "outputs": [],
   "source": []
  },
  {
   "cell_type": "code",
   "execution_count": null,
   "id": "6d4898e0",
   "metadata": {},
   "outputs": [],
   "source": []
  },
  {
   "cell_type": "code",
   "execution_count": null,
   "id": "f9975592",
   "metadata": {},
   "outputs": [],
   "source": []
  },
  {
   "cell_type": "code",
   "execution_count": null,
   "id": "c6101c69",
   "metadata": {},
   "outputs": [],
   "source": []
  },
  {
   "cell_type": "code",
   "execution_count": null,
   "id": "b48353da",
   "metadata": {},
   "outputs": [],
   "source": []
  },
  {
   "cell_type": "code",
   "execution_count": null,
   "id": "ff62decf",
   "metadata": {},
   "outputs": [],
   "source": []
  },
  {
   "cell_type": "code",
   "execution_count": null,
   "id": "b591ce5b",
   "metadata": {},
   "outputs": [],
   "source": []
  },
  {
   "cell_type": "code",
   "execution_count": null,
   "id": "a6751d5b",
   "metadata": {},
   "outputs": [],
   "source": []
  },
  {
   "cell_type": "code",
   "execution_count": null,
   "id": "88b1ad88",
   "metadata": {},
   "outputs": [],
   "source": []
  },
  {
   "cell_type": "code",
   "execution_count": null,
   "id": "e2116752",
   "metadata": {},
   "outputs": [],
   "source": []
  },
  {
   "cell_type": "code",
   "execution_count": null,
   "id": "f5a20abe",
   "metadata": {},
   "outputs": [],
   "source": []
  },
  {
   "cell_type": "code",
   "execution_count": null,
   "id": "9e6789f9",
   "metadata": {},
   "outputs": [],
   "source": []
  }
 ],
 "metadata": {
  "kernelspec": {
   "display_name": "Python 3 (ipykernel)",
   "language": "python",
   "name": "python3"
  },
  "language_info": {
   "codemirror_mode": {
    "name": "ipython",
    "version": 3
   },
   "file_extension": ".py",
   "mimetype": "text/x-python",
   "name": "python",
   "nbconvert_exporter": "python",
   "pygments_lexer": "ipython3",
   "version": "3.9.12"
  }
 },
 "nbformat": 4,
 "nbformat_minor": 5
}
