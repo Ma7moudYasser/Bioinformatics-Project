{
 "cells": [
  {
   "cell_type": "code",
   "execution_count": 1,
   "id": "ca60fba7",
   "metadata": {},
   "outputs": [
    {
     "name": "stdout",
     "output_type": "stream",
     "text": [
      "('ASGMLPCLMIAETVTLQGRTMLEKTKQFVENVTVDYLQKICN*CSVPAAAPKSQV*GA', 'MLPCLMIAETVTLQGRTMLEKTKQFVENVTVDYLQKICN')\n"
     ]
    }
   ],
   "source": [
    "import colorama\n",
    "from colorama import Fore\n",
    "def GC_Content(seq):\n",
    "    l=len(seq)\n",
    "    num_G=seq.count(\"G\")\n",
    "    num_C=seq.count(\"C\")\n",
    "    total=num_C+num_G\n",
    "    return total/l\n",
    "    \n",
    "def Complement(seq):\n",
    "    dic={\"G\":\"C\",\"C\":\"G\",\"A\":\"T\",\"T\":\"A\"}\n",
    "    s=list(seq)\n",
    "    for i in range(len(seq)):\n",
    "        s[i]=str(dic[seq[i]])\n",
    "    s=\"\".join(s)\n",
    "    return s\n",
    "def Reverse(seq):\n",
    "    s=list(seq)\n",
    "    s=reversed(s)\n",
    "    s=\"\".join(s)\n",
    "    return s\n",
    "def Reverse_Complement(seq):\n",
    "    seq=Reverse(seq)\n",
    "    seq=Complement(seq)\n",
    "    return seq\n",
    "def Translation_Table(seq):\n",
    "    dic = {\"TTT\" : \"F\", \"CTT\" : \"L\", \"ATT\" : \"I\", \"GTT\" : \"V\",\n",
    "           \"TTC\" : \"F\", \"CTC\" : \"L\", \"ATC\" : \"I\", \"GTC\" : \"V\",\n",
    "           \"TTA\" : \"L\", \"CTA\" : \"L\", \"ATA\" : \"I\", \"GTA\" : \"V\",\n",
    "           \"TTG\" : \"L\", \"CTG\" : \"L\", \"ATG\" : \"M\", \"GTG\" : \"V\",\n",
    "           \"TCT\" : \"S\", \"CCT\" : \"P\", \"ACT\" : \"T\", \"GCT\" : \"A\",\n",
    "           \"TCC\" : \"S\", \"CCC\" : \"P\", \"ACC\" : \"T\", \"GCC\" : \"A\",\n",
    "           \"TCA\" : \"S\", \"CCA\" : \"P\", \"ACA\" : \"T\", \"GCA\" : \"A\",\n",
    "           \"TCG\" : \"S\", \"CCG\" : \"P\", \"ACG\" : \"T\", \"GCG\" : \"A\",\n",
    "           \"TAT\" : \"Y\", \"CAT\" : \"H\", \"AAT\" : \"N\", \"GAT\" : \"D\",\n",
    "           \"TAC\" : \"Y\", \"CAC\" : \"H\", \"AAC\" : \"N\", \"GAC\" : \"D\",\n",
    "           \"TAA\" : \"*\", \"CAA\" : \"Q\", \"AAA\" : \"K\", \"GAA\" : \"E\",\n",
    "           \"TAG\" : \"*\", \"CAG\" : \"Q\", \"AAG\" : \"K\", \"GAG\" : \"E\",\n",
    "           \"TGT\" : \"C\", \"CGT\" : \"R\", \"AGT\" : \"S\", \"GGT\" : \"G\",\n",
    "           \"TGC\" : \"C\", \"CGC\" : \"R\", \"AGC\" : \"S\", \"GGC\" : \"G\",\n",
    "           \"TGA\" : \"*\", \"CGA\" : \"R\", \"AGA\" : \"R\", \"GGA\" : \"G\",\n",
    "           \"TGG\" : \"W\", \"CGG\" : \"R\", \"AGG\" : \"R\", \"GGG\" : \"G\" \n",
    "           }\n",
    "    s=\"\"\n",
    "    sf=\"\"\n",
    "    flag=0\n",
    "    for i in range(0,len(seq)-2,3):\n",
    "        if dic[seq[i:i+3]]==\"M\":\n",
    "            flag=1\n",
    "        elif (dic[seq[i:i+3]]==\"*\"):\n",
    "            flag=0\n",
    "        if flag==1:\n",
    "            s+=dic[seq[i:i+3]]\n",
    "        sf+=dic[seq[i:i+3]]\n",
    "    return sf,s        \n",
    "s=\"GCCTCTGGTATGCTTCCCTGCTTGATGATTGCGGAAACCGTAACCCTACAAGGCAGGACGATGCTAGAAAAAACCAAGCAGTTTGTGGAGAATGTGACTGTGGACTATTTACAAAAAATCTGCAACTAATGTTCCGTGCCTGCCGCTGCACCCAAATCCCAAGTTTAGGGTGCG\"\n",
    "# print(len(s))\n",
    "# print(\"GC Content\",GC_Content(s))\n",
    "# print(\"Reverse Complement\",Reverse_Complement(s))\n",
    "print(Translation_Table(s))\n"
   ]
  },
  {
   "cell_type": "code",
   "execution_count": null,
   "id": "6ebc919b",
   "metadata": {},
   "outputs": [],
   "source": []
  }
 ],
 "metadata": {
  "kernelspec": {
   "display_name": "Python 3 (ipykernel)",
   "language": "python",
   "name": "python3"
  },
  "language_info": {
   "codemirror_mode": {
    "name": "ipython",
    "version": 3
   },
   "file_extension": ".py",
   "mimetype": "text/x-python",
   "name": "python",
   "nbconvert_exporter": "python",
   "pygments_lexer": "ipython3",
   "version": "3.9.7"
  }
 },
 "nbformat": 4,
 "nbformat_minor": 5
}
