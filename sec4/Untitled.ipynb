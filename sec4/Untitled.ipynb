{
 "cells": [
  {
   "cell_type": "code",
   "execution_count": 1,
   "id": "69631a84",
   "metadata": {},
   "outputs": [
    {
     "name": "stdout",
     "output_type": "stream",
     "text": [
      "123\n",
      "123\n"
     ]
    }
   ],
   "source": [
    "import numpy as np\n",
    "import time\n",
    "\n",
    "def match(seq,sub_seq):\n",
    "    x=-1\n",
    "    for i in range(len(seq)-len(sub_seq)+1):\n",
    "        if sub_seq==seq[i:i+len(sub_seq)]:\n",
    "            x=i\n",
    "    return x\n",
    "\n",
    "\n",
    "\n",
    "\n",
    "\n",
    "\n",
    "def Badchars(seq,sub_seq):\n",
    "    table=np.zeros([4,len(sub_seq)])     \n",
    "    row=[\"C\",\"G\",\"A\",\"T\"]\n",
    "    for i in range (4):\n",
    "        num=-1\n",
    "        for j in range (len(sub_seq)):\n",
    "            if row[i]==sub_seq[j]:\n",
    "                table[i,j]=-1\n",
    "                num=-1\n",
    "            else:\n",
    "                num+=1\n",
    "                table[i,j]=num\n",
    "    x=-1\n",
    "    i=0\n",
    "    while(i<len(seq)-len(sub_seq)+1):\n",
    "        if sub_seq==seq[i:i+len(sub_seq)]:\n",
    "            x=i\n",
    "        else:\n",
    "            for j in range(i+len(sub_seq)-1,i-1,-1):\n",
    "                if seq[j] != sub_seq[int(j-i)]:\n",
    "                    k=row.index(seq[j])\n",
    "                    i+=table[k,j-i]\n",
    "                    break\n",
    "        i=int(i+1)\n",
    "    return x\n",
    "file=open(\"dna1.fasta\")\n",
    "l=[i for i in file]\n",
    "p=l[1][0:-1]\n",
    "t=\"GCGTCGCTGTGGAG\"\n",
    "print(match(p,t))\n",
    "print(Badchars(p,t))\n",
    "\n",
    "\n",
    "\n",
    "\n",
    "\n"
   ]
  },
  {
   "cell_type": "code",
   "execution_count": null,
   "id": "40ede85f",
   "metadata": {},
   "outputs": [],
   "source": []
  }
 ],
 "metadata": {
  "kernelspec": {
   "display_name": "Python 3 (ipykernel)",
   "language": "python",
   "name": "python3"
  },
  "language_info": {
   "codemirror_mode": {
    "name": "ipython",
    "version": 3
   },
   "file_extension": ".py",
   "mimetype": "text/x-python",
   "name": "python",
   "nbconvert_exporter": "python",
   "pygments_lexer": "ipython3",
   "version": "3.9.7"
  }
 },
 "nbformat": 4,
 "nbformat_minor": 5
}
